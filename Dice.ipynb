{
 "cells": [
  {
   "cell_type": "code",
   "execution_count": 1,
   "id": "55ddfed8-ee78-45e1-9527-9e80d865e751",
   "metadata": {},
   "outputs": [],
   "source": [
    "dice = 3\n",
    "sides = 6\n",
    "combinations = 6 ** 3"
   ]
  },
  {
   "cell_type": "code",
   "execution_count": 2,
   "id": "3df394bc-59d1-4854-ba16-118b96b9ea8e",
   "metadata": {},
   "outputs": [
    {
     "name": "stdout",
     "output_type": "stream",
     "text": [
      "sides:\t6\n",
      "dice:\t3\n",
      "combos:\t216\n"
     ]
    }
   ],
   "source": [
    "print('sides:\\t{}\\ndice:\\t{}\\ncombos:\\t{}'.format(sides, dice, combinations))"
   ]
  },
  {
   "cell_type": "code",
   "execution_count": 3,
   "id": "66b6cb1b-5150-4e4c-bbcb-b8a55fc44584",
   "metadata": {
    "tags": []
   },
   "outputs": [],
   "source": [
    "def genCombos(dice, sides):\n",
    "    combos = []\n",
    "    if dice == 1:\n",
    "        for i in range(sides):\n",
    "            combos.append(tuple([i+1]))\n",
    "        return combos\n",
    "    else:\n",
    "        next = genCombos(dice-1, sides)\n",
    "        for i in range(sides):\n",
    "            for rest in next:\n",
    "                combo = [i+1] + list(rest)\n",
    "                combo.sort()\n",
    "                combos.append(tuple(combo))\n",
    "        return combos"
   ]
  },
  {
   "cell_type": "code",
   "execution_count": 4,
   "id": "cd0897a6-5210-465b-8d1b-b61b759195d2",
   "metadata": {},
   "outputs": [
    {
     "name": "stdout",
     "output_type": "stream",
     "text": [
      "combos:\t216\n",
      "unique:\t56\n"
     ]
    }
   ],
   "source": [
    "combos = genCombos(dice, sides)\n",
    "print(\"combos:\\t{}\\nunique:\\t{}\".format(len(combos), len(set(combos))))"
   ]
  }
 ],
 "metadata": {
  "kernelspec": {
   "display_name": "Python 3 (ipykernel)",
   "language": "python",
   "name": "python3"
  },
  "language_info": {
   "codemirror_mode": {
    "name": "ipython",
    "version": 3
   },
   "file_extension": ".py",
   "mimetype": "text/x-python",
   "name": "python",
   "nbconvert_exporter": "python",
   "pygments_lexer": "ipython3",
   "version": "3.10.9"
  }
 },
 "nbformat": 4,
 "nbformat_minor": 5
}
